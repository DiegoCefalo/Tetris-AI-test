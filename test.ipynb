{
 "cells": [
  {
   "cell_type": "code",
   "execution_count": 1,
   "id": "9a0b17cf-5962-4b7f-9cfb-7347c8909846",
   "metadata": {},
   "outputs": [
    {
     "name": "stdout",
     "output_type": "stream",
     "text": [
      "pygame 2.1.2 (SDL 2.0.16, Python 3.10.6)\n",
      "Hello from the pygame community. https://www.pygame.org/contribute.html\n"
     ]
    }
   ],
   "source": [
    "import tetris_engine as tr\n",
    "import numpy as np\n",
    "np.set_printoptions(linewidth=300)\n",
    "from IPython.display import clear_output\n",
    "import random as rnd\n",
    "import torch\n",
    "import torch.nn as nn\n",
    "import random\n",
    "import time\n",
    "# import os, sys\n",
    "# os.environ[\"SDL_VIDEODRIVER\"] = \"dummy\""
   ]
  },
  {
   "cell_type": "code",
   "execution_count": 2,
   "id": "5d60b419-2ab5-404d-9466-22dc9774b728",
   "metadata": {},
   "outputs": [],
   "source": [
    "env = tr.GameState()"
   ]
  },
  {
   "cell_type": "code",
   "execution_count": 9,
   "id": "4cb7c0a0-ffec-47f9-aa1f-5a60e70a7394",
   "metadata": {
    "jupyter": {
     "source_hidden": true
    },
    "tags": []
   },
   "outputs": [],
   "source": [
    "\"\"\"\n",
    "@author: Viet Nguyen <nhviet1009@gmail.com>\n",
    "\"\"\" \n",
    "import torch.nn as nn\n",
    "\n",
    "class DeepQNetwork(nn.Module):\n",
    "    def __init__(self):\n",
    "        super(DeepQNetwork, self).__init__()\n",
    "\n",
    "        self.conv1 = nn.Sequential(nn.Linear(5, 64), nn.LeakyReLU(inplace=True))\n",
    "        self.conv2 = nn.Sequential(nn.Linear(64, 64), nn.LeakyReLU(inplace=True))\n",
    "        self.conv3 = nn.Sequential(nn.Linear(64, 64), nn.LeakyReLU(inplace=True))\n",
    "        self.conv4 = nn.Sequential(nn.Linear(64, 64), nn.LeakyReLU(inplace=True))\n",
    "        self.conv5 = nn.Sequential(nn.Linear(64, 1))\n",
    "\n",
    "    def forward(self, x):\n",
    "        x = self.conv1(x)\n",
    "        x = self.conv2(x)\n",
    "        x = self.conv3(x)\n",
    "        x = self.conv4(x)\n",
    "        x = self.conv5(x)\n",
    "\n",
    "        return x"
   ]
  },
  {
   "cell_type": "code",
   "execution_count": 3,
   "id": "979b5e2c-ac23-4655-be23-378df2cfc785",
   "metadata": {},
   "outputs": [],
   "source": [
    "class LinearBlock(nn.Module):\n",
    "    \"\"\"\n",
    "    Linear layer with ReLU and BatchNorm\n",
    "    \"\"\"\n",
    "    def __init__(self, input_prev, embed_dim):\n",
    "        super(LinearBlock, self).__init__()\n",
    "        self.fc = nn.Linear(input_prev, embed_dim)\n",
    "        self.relu = nn.ReLU()\n",
    "        self.bn = nn.BatchNorm1d(embed_dim)\n",
    "\n",
    "    def forward(self, inputs):\n",
    "        x = inputs\n",
    "        x = self.fc(x)\n",
    "        x = self.relu(x)\n",
    "        x = self.bn(x)\n",
    "        return x\n",
    "\n",
    "\n",
    "class ResidualBlock(nn.Module):\n",
    "    \"\"\"\n",
    "    Residual block with two linear layers\n",
    "    \"\"\"\n",
    "    def __init__(self, embed_dim):\n",
    "        super(ResidualBlock, self).__init__()\n",
    "        self.linearblock_1 = LinearBlock(embed_dim, embed_dim)\n",
    "        self.linearblock_2 = LinearBlock(embed_dim, embed_dim)\n",
    "\n",
    "    def forward(self, inputs):\n",
    "        x = inputs\n",
    "        x = self.linearblock_1(x)\n",
    "        x = self.linearblock_2(x)\n",
    "        x += inputs # skip-connection\n",
    "        return x\n",
    "\n",
    "\n",
    "class Model(nn.Module):\n",
    "    def __init__(self):\n",
    "        super(Model, self).__init__()\n",
    "        self.one_hot = nn.functional.one_hot\n",
    "        self.Stack = nn.Sequential(\n",
    "            LinearBlock(6, 32),\n",
    "            LinearBlock(32, 128),\n",
    "            LinearBlock(128, 500),\n",
    "            ResidualBlock(500),\n",
    "            ResidualBlock(500),\n",
    "            ResidualBlock(500),\n",
    "            ResidualBlock(500),\n",
    "        )\n",
    "        self.Prediction = nn.Linear(500, 1)\n",
    "\n",
    "    def forward(self, inputs):\n",
    "        x = inputs\n",
    "        # x = self.one_hot(x, num_classes=6).to(torch.float).reshape(-1, 324)\n",
    "        x = self.Stack(x)\n",
    "        logits = self.Prediction(x)\n",
    "        return logits"
   ]
  },
  {
   "cell_type": "code",
   "execution_count": 7,
   "id": "04d04d16-72e1-4570-b99e-2e2cdec525b5",
   "metadata": {
    "collapsed": true,
    "jupyter": {
     "outputs_hidden": true,
     "source_hidden": true
    },
    "tags": []
   },
   "outputs": [
    {
     "ename": "KeyboardInterrupt",
     "evalue": "",
     "output_type": "error",
     "traceback": [
      "\u001b[0;31m---------------------------------------------------------------------------\u001b[0m",
      "\u001b[0;31mKeyboardInterrupt\u001b[0m                         Traceback (most recent call last)",
      "\u001b[0;32m/tmp/ipykernel_1179/1326734081.py\u001b[0m in \u001b[0;36m<module>\u001b[0;34m\u001b[0m\n\u001b[1;32m     44\u001b[0m \u001b[0;34m\u001b[0m\u001b[0m\n\u001b[1;32m     45\u001b[0m     \u001b[0mreward_check\u001b[0m \u001b[0;34m=\u001b[0m \u001b[0mreward\u001b[0m\u001b[0;34m\u001b[0m\u001b[0;34m\u001b[0m\u001b[0m\n\u001b[0;32m---> 46\u001b[0;31m     \u001b[0mreward\u001b[0m\u001b[0;34m,\u001b[0m \u001b[0mdone\u001b[0m \u001b[0;34m=\u001b[0m \u001b[0menv\u001b[0m\u001b[0;34m.\u001b[0m\u001b[0mframe_step\u001b[0m\u001b[0;34m(\u001b[0m\u001b[0;34m[\u001b[0m\u001b[0;36m0\u001b[0m\u001b[0;34m,\u001b[0m\u001b[0;36m0\u001b[0m\u001b[0;34m,\u001b[0m\u001b[0;36m0\u001b[0m\u001b[0;34m,\u001b[0m\u001b[0;36m0\u001b[0m\u001b[0;34m,\u001b[0m\u001b[0;36m0\u001b[0m\u001b[0;34m,\u001b[0m\u001b[0;36m0\u001b[0m\u001b[0;34m]\u001b[0m\u001b[0;34m)\u001b[0m\u001b[0;34m[\u001b[0m\u001b[0;36m1\u001b[0m\u001b[0;34m:\u001b[0m\u001b[0;36m3\u001b[0m\u001b[0;34m]\u001b[0m\u001b[0;34m\u001b[0m\u001b[0;34m\u001b[0m\u001b[0m\n\u001b[0m\u001b[1;32m     47\u001b[0m         \u001b[0;31m# if env.lines > 150:\u001b[0m\u001b[0;34m\u001b[0m\u001b[0;34m\u001b[0m\u001b[0;34m\u001b[0m\u001b[0m\n\u001b[1;32m     48\u001b[0m         \u001b[0;31m#     print('This is the seed: ', seed)\u001b[0m\u001b[0;34m\u001b[0m\u001b[0;34m\u001b[0m\u001b[0;34m\u001b[0m\u001b[0m\n",
      "\u001b[0;32m/mnt/c/Users/diego/tetris-final/gym-tetris/gym_tetris/tetris_engine.py\u001b[0m in \u001b[0;36mframe_step\u001b[0;34m(self, input, render)\u001b[0m\n\u001b[1;32m    334\u001b[0m                 \u001b[0mself\u001b[0m\u001b[0;34m.\u001b[0m\u001b[0mdrawPiece\u001b[0m\u001b[0;34m(\u001b[0m\u001b[0mself\u001b[0m\u001b[0;34m.\u001b[0m\u001b[0mfallingPiece\u001b[0m\u001b[0;34m)\u001b[0m\u001b[0;34m\u001b[0m\u001b[0;34m\u001b[0m\u001b[0m\n\u001b[1;32m    335\u001b[0m \u001b[0;34m\u001b[0m\u001b[0m\n\u001b[0;32m--> 336\u001b[0;31m             \u001b[0mpygame\u001b[0m\u001b[0;34m.\u001b[0m\u001b[0mdisplay\u001b[0m\u001b[0;34m.\u001b[0m\u001b[0mupdate\u001b[0m\u001b[0;34m(\u001b[0m\u001b[0;34m)\u001b[0m\u001b[0;34m\u001b[0m\u001b[0;34m\u001b[0m\u001b[0m\n\u001b[0m\u001b[1;32m    337\u001b[0m \u001b[0;34m\u001b[0m\u001b[0m\n\u001b[1;32m    338\u001b[0m         \u001b[0;31m# if cleared > 0:\u001b[0m\u001b[0;34m\u001b[0m\u001b[0;34m\u001b[0m\u001b[0;34m\u001b[0m\u001b[0m\n",
      "\u001b[0;31mKeyboardInterrupt\u001b[0m: "
     ]
    }
   ],
   "source": [
    "\n",
    "model = torch.load('trained_models/tetris_4500')\n",
    "\n",
    "counter = 0\n",
    "# for seed in range(10000):\n",
    "counter+=1\n",
    "random.seed(4298)\n",
    "done = False\n",
    "reward = 0\n",
    "reward_check = 0\n",
    "env.reinit()\n",
    "\n",
    "next_steps = env.get_next_states()\n",
    "next_actions, next_states = zip(*next_steps.items())\n",
    "next_states = torch.stack(next_states)\n",
    "if torch.cuda.is_available():\n",
    "    next_states = next_states.cuda()\n",
    "model.eval()\n",
    "predictions = model(next_states)[:, 0]\n",
    "\n",
    "while True:\n",
    "    if reward != reward_check:\n",
    "        with torch.no_grad():\n",
    "            next_steps = env.get_next_states()\n",
    "            next_actions, next_states = zip(*next_steps.items())\n",
    "            next_states = torch.stack(next_states)\n",
    "            if torch.cuda.is_available():\n",
    "                next_states = next_states.cuda()\n",
    "            model.eval()\n",
    "            predictions = model(next_states)[:, 0]\n",
    "\n",
    "\n",
    "    index = torch.argmax(predictions).item()\n",
    "\n",
    "    action = next_actions[index]\n",
    "\n",
    "    reverse_x = env.fallingPiece['x']\n",
    "    reverse_rot = env.fallingPiece['rotation']\n",
    "    env.fallingPiece['x'] = action[0]\n",
    "    env.fallingPiece['rotation'] = action[1]\n",
    "\n",
    "    if not env.isValidPosition():\n",
    "        env.fallingPiece['x'] = reverse_x\n",
    "        env.fallingPiece['rotation'] = reverse_rot\n",
    "\n",
    "    reward_check = reward\n",
    "    reward, done = env.frame_step([0,0,0,0,0,0])[1:3]\n",
    "        # if env.lines > 150:\n",
    "        #     print('This is the seed: ', seed)\n",
    "        #     print('Lines: ', env.lines)\n",
    "        # if done:\n",
    "        #     break\n",
    "    \n",
    "\n",
    "    \n",
    "    "
   ]
  },
  {
   "cell_type": "code",
   "execution_count": 8,
   "id": "20b48307-a3d9-44df-b927-2187c50e32d2",
   "metadata": {},
   "outputs": [
    {
     "ename": "KeyboardInterrupt",
     "evalue": "",
     "output_type": "error",
     "traceback": [
      "\u001b[0;31m---------------------------------------------------------------------------\u001b[0m",
      "\u001b[0;31mKeyboardInterrupt\u001b[0m                         Traceback (most recent call last)",
      "Cell \u001b[0;32mIn[8], line 45\u001b[0m\n\u001b[1;32m     42\u001b[0m     env\u001b[38;5;241m.\u001b[39mfallingPiece[\u001b[38;5;124m'\u001b[39m\u001b[38;5;124mrotation\u001b[39m\u001b[38;5;124m'\u001b[39m] \u001b[38;5;241m=\u001b[39m reverse_rot\n\u001b[1;32m     44\u001b[0m reward_check \u001b[38;5;241m=\u001b[39m reward\n\u001b[0;32m---> 45\u001b[0m reward, done \u001b[38;5;241m=\u001b[39m \u001b[43menv\u001b[49m\u001b[38;5;241;43m.\u001b[39;49m\u001b[43mframe_step\u001b[49m\u001b[43m(\u001b[49m\u001b[43m[\u001b[49m\u001b[38;5;241;43m0\u001b[39;49m\u001b[43m,\u001b[49m\u001b[38;5;241;43m0\u001b[39;49m\u001b[43m,\u001b[49m\u001b[38;5;241;43m0\u001b[39;49m\u001b[43m,\u001b[49m\u001b[38;5;241;43m0\u001b[39;49m\u001b[43m,\u001b[49m\u001b[38;5;241;43m0\u001b[39;49m\u001b[43m,\u001b[49m\u001b[38;5;241;43m0\u001b[39;49m\u001b[43m]\u001b[49m\u001b[43m)\u001b[49m[\u001b[38;5;241m1\u001b[39m:\u001b[38;5;241m3\u001b[39m]\n\u001b[1;32m     46\u001b[0m \u001b[38;5;66;03m# time.sleep(0.025)\u001b[39;00m\n\u001b[1;32m     47\u001b[0m \u001b[38;5;66;03m# if env.lines > 1000:\u001b[39;00m\n\u001b[1;32m     48\u001b[0m \u001b[38;5;66;03m#     print('This is the seed: ', seed)\u001b[39;00m\n\u001b[1;32m     49\u001b[0m \u001b[38;5;66;03m#     print('Lines: ', env.lines)\u001b[39;00m\n\u001b[1;32m     50\u001b[0m \u001b[38;5;66;03m# if done:\u001b[39;00m\n\u001b[1;32m     51\u001b[0m \u001b[38;5;66;03m#     break\u001b[39;00m\n",
      "File \u001b[0;32m/mnt/c/Users/diego/tetris-final/gym-tetris/gym_tetris/tetris_engine.py:330\u001b[0m, in \u001b[0;36mGameState.frame_step\u001b[0;34m(self, input, render)\u001b[0m\n\u001b[1;32m    328\u001b[0m \u001b[38;5;28;01mif\u001b[39;00m render:\n\u001b[1;32m    329\u001b[0m     DISPLAYSURF\u001b[38;5;241m.\u001b[39mfill(BGCOLOR)\n\u001b[0;32m--> 330\u001b[0m     \u001b[38;5;28;43mself\u001b[39;49m\u001b[38;5;241;43m.\u001b[39;49m\u001b[43mdrawBoard\u001b[49m\u001b[43m(\u001b[49m\u001b[43m)\u001b[49m\n\u001b[1;32m    331\u001b[0m     \u001b[38;5;28mself\u001b[39m\u001b[38;5;241m.\u001b[39mdrawStatus()\n\u001b[1;32m    332\u001b[0m     \u001b[38;5;28mself\u001b[39m\u001b[38;5;241m.\u001b[39mdrawNextPiece()\n",
      "File \u001b[0;32m/mnt/c/Users/diego/tetris-final/gym-tetris/gym_tetris/tetris_engine.py:561\u001b[0m, in \u001b[0;36mGameState.drawBoard\u001b[0;34m(self)\u001b[0m\n\u001b[1;32m    558\u001b[0m pygame\u001b[38;5;241m.\u001b[39mdraw\u001b[38;5;241m.\u001b[39mrect(DISPLAYSURF, BORDERCOLOR, (XMARGIN \u001b[38;5;241m-\u001b[39m \u001b[38;5;241m3\u001b[39m, TOPMARGIN \u001b[38;5;241m-\u001b[39m \u001b[38;5;241m7\u001b[39m, (BOARDWIDTH \u001b[38;5;241m*\u001b[39m BOXSIZE) \u001b[38;5;241m+\u001b[39m \u001b[38;5;241m8\u001b[39m, (BOARDHEIGHT \u001b[38;5;241m*\u001b[39m BOXSIZE) \u001b[38;5;241m+\u001b[39m \u001b[38;5;241m8\u001b[39m), \u001b[38;5;241m5\u001b[39m)\n\u001b[1;32m    560\u001b[0m \u001b[38;5;66;03m# fill the background of the self.board\u001b[39;00m\n\u001b[0;32m--> 561\u001b[0m \u001b[43mpygame\u001b[49m\u001b[38;5;241;43m.\u001b[39;49m\u001b[43mdraw\u001b[49m\u001b[38;5;241;43m.\u001b[39;49m\u001b[43mrect\u001b[49m\u001b[43m(\u001b[49m\u001b[43mDISPLAYSURF\u001b[49m\u001b[43m,\u001b[49m\u001b[43m \u001b[49m\u001b[43mBGCOLOR\u001b[49m\u001b[43m,\u001b[49m\u001b[43m \u001b[49m\u001b[43m(\u001b[49m\u001b[43mXMARGIN\u001b[49m\u001b[43m,\u001b[49m\u001b[43m \u001b[49m\u001b[43mTOPMARGIN\u001b[49m\u001b[43m,\u001b[49m\u001b[43m \u001b[49m\u001b[43mBOXSIZE\u001b[49m\u001b[43m \u001b[49m\u001b[38;5;241;43m*\u001b[39;49m\u001b[43m \u001b[49m\u001b[43mBOARDWIDTH\u001b[49m\u001b[43m,\u001b[49m\u001b[43m \u001b[49m\u001b[43mBOXSIZE\u001b[49m\u001b[43m \u001b[49m\u001b[38;5;241;43m*\u001b[39;49m\u001b[43m \u001b[49m\u001b[43mBOARDHEIGHT\u001b[49m\u001b[43m)\u001b[49m\u001b[43m)\u001b[49m\n\u001b[1;32m    562\u001b[0m \u001b[38;5;66;03m# draw the individual boxes on the self.board\u001b[39;00m\n\u001b[1;32m    563\u001b[0m \u001b[38;5;28;01mfor\u001b[39;00m x \u001b[38;5;129;01min\u001b[39;00m \u001b[38;5;28mrange\u001b[39m(BOARDWIDTH):\n",
      "\u001b[0;31mKeyboardInterrupt\u001b[0m: "
     ]
    }
   ],
   "source": [
    "model = torch.load('trained_models/res_arq_3000_morelr/tetris_res_arq_3000_morelr_2')\n",
    "counter = 0\n",
    "# for seed in range(10000):\n",
    "counter+=1\n",
    "random.seed(103)\n",
    "done = False\n",
    "reward = 0\n",
    "reward_check = 0\n",
    "env.reinit()\n",
    "\n",
    "next_steps = env.get_next_states()\n",
    "next_actions, next_states = zip(*next_steps.items())\n",
    "next_states = torch.stack(next_states)\n",
    "if torch.cuda.is_available():\n",
    "    next_states = next_states.cuda()\n",
    "model.eval()\n",
    "predictions = model(next_states)[:, 0]\n",
    "\n",
    "while True:\n",
    "    if reward != reward_check:\n",
    "        with torch.no_grad():\n",
    "            next_steps = env.get_next_states()\n",
    "            next_actions, next_states = zip(*next_steps.items())\n",
    "            next_states = torch.stack(next_states)\n",
    "            if torch.cuda.is_available():\n",
    "                next_states = next_states.cuda()\n",
    "            model.eval()\n",
    "            predictions = model(next_states)[:, 0]\n",
    "\n",
    "\n",
    "    index = torch.argmax(predictions).item()\n",
    "\n",
    "    action = next_actions[index]\n",
    "\n",
    "    reverse_x = env.fallingPiece['x']\n",
    "    reverse_rot = env.fallingPiece['rotation']\n",
    "    env.fallingPiece['x'] = action[0]\n",
    "    env.fallingPiece['rotation'] = action[1]\n",
    "\n",
    "    if not env.isValidPosition():\n",
    "        env.fallingPiece['x'] = reverse_x\n",
    "        env.fallingPiece['rotation'] = reverse_rot\n",
    "\n",
    "    reward_check = reward\n",
    "    reward, done = env.frame_step([0,0,0,0,0,0])[1:3]\n",
    "    # time.sleep(0.025)\n",
    "    # if env.lines > 1000:\n",
    "    #     print('This is the seed: ', seed)\n",
    "    #     print('Lines: ', env.lines)\n",
    "    # if done:\n",
    "    #     break\n",
    "    \n",
    "\n",
    "    \n",
    "    "
   ]
  },
  {
   "cell_type": "code",
   "execution_count": null,
   "id": "21813bd9-1baf-4480-afe0-0f74d999eb89",
   "metadata": {},
   "outputs": [],
   "source": [
    "4500(4298)253"
   ]
  },
  {
   "cell_type": "code",
   "execution_count": null,
   "id": "8097fbf9-1518-418a-b2e2-17714cb58291",
   "metadata": {},
   "outputs": [],
   "source": [
    "5000(2269)174"
   ]
  },
  {
   "cell_type": "code",
   "execution_count": null,
   "id": "64f4b84b-2a0c-47e1-b803-aebd5ceb2e1d",
   "metadata": {},
   "outputs": [],
   "source": [
    "2473"
   ]
  },
  {
   "cell_type": "code",
   "execution_count": null,
   "id": "8a830bbb-dd78-4f7f-8b8c-fe3546c54364",
   "metadata": {
    "jp-MarkdownHeadingCollapsed": true,
    "tags": []
   },
   "outputs": [],
   "source": [
    "3969"
   ]
  }
 ],
 "metadata": {
  "kernelspec": {
   "display_name": "Python 3 (ipykernel)",
   "language": "python",
   "name": "python3"
  },
  "language_info": {
   "codemirror_mode": {
    "name": "ipython",
    "version": 3
   },
   "file_extension": ".py",
   "mimetype": "text/x-python",
   "name": "python",
   "nbconvert_exporter": "python",
   "pygments_lexer": "ipython3",
   "version": "3.10.6"
  }
 },
 "nbformat": 4,
 "nbformat_minor": 5
}
